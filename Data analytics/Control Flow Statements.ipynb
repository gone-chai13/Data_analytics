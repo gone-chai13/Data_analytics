{
 "cells": [
  {
   "cell_type": "code",
   "execution_count": null,
   "id": "9d3febd7-257b-475e-acc3-3197dd02936c",
   "metadata": {},
   "outputs": [],
   "source": [
    "syntax:\n",
    "for temp_var in iterable:\n",
    "    body to the for loop"
   ]
  },
  {
   "cell_type": "code",
   "execution_count": 1,
   "id": "5d3f2423-0bee-4728-b64c-2c57ec4f60ca",
   "metadata": {},
   "outputs": [
    {
     "name": "stdout",
     "output_type": "stream",
     "text": [
      "10\n",
      "20\n",
      "30\n",
      "40\n"
     ]
    }
   ],
   "source": [
    "list_1=[10,20,30,40]\n",
    "for i in list_1:\n",
    "    print(i)"
   ]
  },
  {
   "cell_type": "code",
   "execution_count": 3,
   "id": "3f4f8df8-0955-401a-abeb-75836bd7193e",
   "metadata": {},
   "outputs": [
    {
     "name": "stdout",
     "output_type": "stream",
     "text": [
      "50\n",
      "20\n",
      "40\n",
      "10\n",
      "30\n"
     ]
    }
   ],
   "source": [
    "set_1={10,20,30,40,50,10}\n",
    "for i in set_1:\n",
    "    print(i)\n",
    "    "
   ]
  },
  {
   "cell_type": "code",
   "execution_count": 5,
   "id": "ec5ff241-5900-4324-a426-0958cff3a53c",
   "metadata": {},
   "outputs": [
    {
     "name": "stdout",
     "output_type": "stream",
     "text": [
      "name\n",
      "age\n",
      "speciality\n"
     ]
    }
   ],
   "source": [
    "dict_1={\"name\":\"Istudio\",\"age\":6,\"speciality\":\"Internship\"}\n",
    "for i in dict_1:\n",
    "    print(i)"
   ]
  },
  {
   "cell_type": "code",
   "execution_count": 7,
   "id": "24c23b2e-9f46-4cda-a9bc-dcaa50be4297",
   "metadata": {},
   "outputs": [
    {
     "name": "stdout",
     "output_type": "stream",
     "text": [
      "Istudio\n",
      "6\n",
      "Internship\n"
     ]
    }
   ],
   "source": [
    "for j in dict_1.values():\n",
    "    print(j)"
   ]
  },
  {
   "cell_type": "code",
   "execution_count": 9,
   "id": "76659e17-d6d0-49b0-a1d5-f2482599ba27",
   "metadata": {},
   "outputs": [
    {
     "name": "stdout",
     "output_type": "stream",
     "text": [
      "('name', 'Istudio')\n",
      "('age', 6)\n",
      "('speciality', 'Internship')\n"
     ]
    }
   ],
   "source": [
    "for k in dict_1.items():\n",
    "    print(k)"
   ]
  },
  {
   "cell_type": "code",
   "execution_count": null,
   "id": "e3bce647-1808-42e4-aa50-575b6938b4e0",
   "metadata": {},
   "outputs": [],
   "source": [
    "#built-in functions:\n",
    "1.range()\n",
    "2.enumerate()\n",
    "3.zip()"
   ]
  },
  {
   "cell_type": "code",
   "execution_count": 11,
   "id": "b6a9a68d-ec07-40c6-80f5-79aa2e3e4bc9",
   "metadata": {},
   "outputs": [
    {
     "name": "stdout",
     "output_type": "stream",
     "text": [
      "1\n",
      "2\n",
      "3\n",
      "4\n",
      "5\n",
      "6\n",
      "7\n",
      "8\n",
      "9\n",
      "10\n"
     ]
    }
   ],
   "source": [
    "#to find out even number from first 10 natural numbers.\n",
    "for i in range (1,11):\n",
    "    print (i)"
   ]
  },
  {
   "cell_type": "code",
   "execution_count": 13,
   "id": "876dbda7-ee3e-4866-88c7-d5a9a1ddfde7",
   "metadata": {},
   "outputs": [
    {
     "name": "stdout",
     "output_type": "stream",
     "text": [
      "2\n",
      "4\n",
      "6\n",
      "8\n",
      "10\n",
      "12\n",
      "14\n",
      "16\n",
      "18\n",
      "20\n"
     ]
    }
   ],
   "source": [
    "for i in range (2,21,2):\n",
    "    print(i)"
   ]
  },
  {
   "cell_type": "code",
   "execution_count": 15,
   "id": "cdeddee3-562b-4e76-add2-51ea402fe5a3",
   "metadata": {},
   "outputs": [
    {
     "name": "stdout",
     "output_type": "stream",
     "text": [
      "(0, 10)\n",
      "(1, 20)\n",
      "(2, 30)\n",
      "(3, 40)\n"
     ]
    }
   ],
   "source": [
    "list_1=[10,20,30,40]\n",
    "for i in enumerate(list_1):\n",
    "    print(i)"
   ]
  },
  {
   "cell_type": "code",
   "execution_count": 17,
   "id": "5d092154-aecc-4c1a-a8c8-227313bdcf8a",
   "metadata": {},
   "outputs": [
    {
     "name": "stdout",
     "output_type": "stream",
     "text": [
      "77\n",
      "76\n",
      "75\n",
      "118\n"
     ]
    }
   ],
   "source": [
    "list_2=[67,56,45,78]\n",
    "list_1=[10,20,30,40]\n",
    "for i,j in zip( list_1,list_2):\n",
    "    print(i+j)"
   ]
  },
  {
   "cell_type": "code",
   "execution_count": null,
   "id": "c09a393d-8a22-4a77-bb4a-9b7762d118b0",
   "metadata": {},
   "outputs": [],
   "source": [
    "syntax:\n",
    "while condition:\n",
    "body to your while loop\n",
    "write one statement to make the condition of while loop false"
   ]
  },
  {
   "cell_type": "code",
   "execution_count": 19,
   "id": "ceab775c-22b9-4645-818b-e38b7da6de44",
   "metadata": {},
   "outputs": [
    {
     "name": "stdout",
     "output_type": "stream",
     "text": [
      "1\n",
      "2\n",
      "3\n",
      "4\n",
      "5\n",
      "6\n",
      "7\n",
      "8\n",
      "9\n",
      "10\n"
     ]
    }
   ],
   "source": [
    "x=1\n",
    "while x<=10:\n",
    "    print(x)\n",
    "    x+=1"
   ]
  },
  {
   "cell_type": "code",
   "execution_count": 25,
   "id": "c64cbbf0-86f5-408e-a50c-ab3573721336",
   "metadata": {},
   "outputs": [
    {
     "name": "stdin",
     "output_type": "stream",
     "text": [
      "Enter the number 100\n"
     ]
    },
    {
     "name": "stdout",
     "output_type": "stream",
     "text": [
      "100\n"
     ]
    },
    {
     "name": "stdin",
     "output_type": "stream",
     "text": [
      "Enter the next number: 67\n"
     ]
    },
    {
     "name": "stdout",
     "output_type": "stream",
     "text": [
      "END\n",
      "67\n"
     ]
    },
    {
     "name": "stdin",
     "output_type": "stream",
     "text": [
      "Enter the next number: 89\n"
     ]
    },
    {
     "name": "stdout",
     "output_type": "stream",
     "text": [
      "END\n",
      "89\n"
     ]
    },
    {
     "name": "stdin",
     "output_type": "stream",
     "text": [
      "Enter the next number: 0\n"
     ]
    },
    {
     "name": "stdout",
     "output_type": "stream",
     "text": [
      "END\n"
     ]
    }
   ],
   "source": [
    "#print all the numbers entered until user enter the number 0.\n",
    "num=int(input(\"Enter the number\"))\n",
    "while num!=0:\n",
    "    print(num)\n",
    "    num=int(input(\"Enter the next number:\"))\n",
    "    print(\"END\")"
   ]
  },
  {
   "cell_type": "code",
   "execution_count": null,
   "id": "14fc34a4-6c0c-46d0-b18f-29676cad070f",
   "metadata": {},
   "outputs": [],
   "source": [
    "# pass,break and Continue\n",
    "#pass is the null statement that helps us to avoid errors along with that it reserve spaces \n",
    "#for the future references."
   ]
  },
  {
   "cell_type": "code",
   "execution_count": 29,
   "id": "8d11f82b-c2b6-4841-91fa-20e64df0e78e",
   "metadata": {},
   "outputs": [],
   "source": [
    "for i in range(1,11):\n",
    "    pass "
   ]
  },
  {
   "cell_type": "code",
   "execution_count": 46,
   "id": "9cc669a4-f711-48d8-b2be-b5e2effb2284",
   "metadata": {},
   "outputs": [
    {
     "name": "stdout",
     "output_type": "stream",
     "text": [
      "1\n",
      "2\n",
      "3\n",
      "4\n"
     ]
    }
   ],
   "source": [
    "#break:\n",
    "#break is use to terminate the flow of for loop\n",
    "for i in range(1,11):\n",
    "    if i==5:\n",
    "        break\n",
    "    print(i)"
   ]
  },
  {
   "cell_type": "code",
   "execution_count": 59,
   "id": "3f0b7510-9377-4675-95ba-655b6447a1ff",
   "metadata": {},
   "outputs": [
    {
     "name": "stdout",
     "output_type": "stream",
     "text": [
      "1\n",
      "2\n",
      "3\n",
      "4\n",
      "6\n",
      "7\n",
      "8\n",
      "9\n",
      "10\n"
     ]
    }
   ],
   "source": [
    "#continue:\n",
    "#it helps us to skip the iteration:\n",
    "for i in range(1,11):\n",
    "    if i==5:\n",
    "        continue\n",
    "    print(i)"
   ]
  },
  {
   "cell_type": "code",
   "execution_count": null,
   "id": "e84717fd-12dd-4ac4-837c-522a3815a4d4",
   "metadata": {},
   "outputs": [],
   "source": []
  }
 ],
 "metadata": {
  "kernelspec": {
   "display_name": "Python 3 (ipykernel)",
   "language": "python",
   "name": "python3"
  },
  "language_info": {
   "codemirror_mode": {
    "name": "ipython",
    "version": 3
   },
   "file_extension": ".py",
   "mimetype": "text/x-python",
   "name": "python",
   "nbconvert_exporter": "python",
   "pygments_lexer": "ipython3",
   "version": "3.12.4"
  }
 },
 "nbformat": 4,
 "nbformat_minor": 5
}
