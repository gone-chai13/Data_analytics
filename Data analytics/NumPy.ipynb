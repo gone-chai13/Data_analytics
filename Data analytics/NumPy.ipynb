{
 "cells": [
  {
   "cell_type": "code",
   "execution_count": null,
   "id": "582adea5-c725-4f09-925b-def8be2f11ae",
   "metadata": {},
   "outputs": [],
   "source": [
    "NumPy--->Numerical Python \n",
    "\n",
    "----->Array--> An array is the ordered data structure that contains data of similar type.\n"
   ]
  },
  {
   "cell_type": "code",
   "execution_count": 5,
   "id": "d41ca3db-8cb2-45e3-9e4d-c7b1b76cbda8",
   "metadata": {},
   "outputs": [],
   "source": [
    "import numpy as np"
   ]
  },
  {
   "cell_type": "code",
   "execution_count": 7,
   "id": "f844bfc9-e249-4fca-96ee-fcd5547eb365",
   "metadata": {},
   "outputs": [
    {
     "name": "stdout",
     "output_type": "stream",
     "text": [
      "[1 2 3]\n"
     ]
    }
   ],
   "source": [
    "array_1=np.array([1,2,3])\n",
    "print(array_1)"
   ]
  },
  {
   "cell_type": "code",
   "execution_count": 9,
   "id": "a993148c-3b80-4cc3-89bd-91b9b2230627",
   "metadata": {},
   "outputs": [
    {
     "name": "stdout",
     "output_type": "stream",
     "text": [
      "[30 40 50]\n"
     ]
    }
   ],
   "source": [
    "array_2=np.array((30,40,50))\n",
    "print(array_2)"
   ]
  },
  {
   "cell_type": "code",
   "execution_count": 13,
   "id": "3dd70cc2-b655-439e-88d2-975f8e987392",
   "metadata": {},
   "outputs": [
    {
     "name": "stdout",
     "output_type": "stream",
     "text": [
      "[[1 2 3]\n",
      " [4 5 6]\n",
      " [5 6 7]]\n"
     ]
    }
   ],
   "source": [
    "ARRAY_3=np.array([[1,2,3],[4,5,6],[5,6,7]])\n",
    "print(ARRAY_3)"
   ]
  },
  {
   "cell_type": "code",
   "execution_count": 15,
   "id": "55fb0ea9-5176-4dd8-a41c-d0af921e0662",
   "metadata": {},
   "outputs": [
    {
     "data": {
      "text/plain": [
       "array([1.+0.j, 2.+0.j, 3.+0.j, 4.+0.j])"
      ]
     },
     "execution_count": 15,
     "metadata": {},
     "output_type": "execute_result"
    }
   ],
   "source": [
    "np.array([1,2,3,4],dtype=\"complex\")"
   ]
  },
  {
   "cell_type": "code",
   "execution_count": 17,
   "id": "a759a9c0-70b2-4e95-93f2-20f2aa87e624",
   "metadata": {},
   "outputs": [
    {
     "data": {
      "text/plain": [
       "array([1., 2., 3., 4.])"
      ]
     },
     "execution_count": 17,
     "metadata": {},
     "output_type": "execute_result"
    }
   ],
   "source": [
    "np.array([1,2,3,4],dtype=\"float\")"
   ]
  },
  {
   "cell_type": "code",
   "execution_count": 19,
   "id": "8aacb8ef-4964-4ab0-9465-830a40ff4a7a",
   "metadata": {},
   "outputs": [
    {
     "name": "stdout",
     "output_type": "stream",
     "text": [
      "[10, 20, 30]\n"
     ]
    }
   ],
   "source": [
    "list_1=[10,20,30]\n",
    "print(list_1)"
   ]
  },
  {
   "cell_type": "markdown",
   "id": "23c10eff-53d4-4083-90c0-a7a9f788ce38",
   "metadata": {},
   "source": [
    "# what is the major difference between numpy array and the python lists:\n"
   ]
  },
  {
   "cell_type": "code",
   "execution_count": 22,
   "id": "5447ff85-271f-4672-a364-adf549a5ccd8",
   "metadata": {},
   "outputs": [
    {
     "data": {
      "text/plain": [
       "array([1, 2, 3])"
      ]
     },
     "execution_count": 22,
     "metadata": {},
     "output_type": "execute_result"
    }
   ],
   "source": [
    "array_1"
   ]
  },
  {
   "cell_type": "code",
   "execution_count": 24,
   "id": "14565c43-6de0-4d1f-a34c-1021d6b8eba1",
   "metadata": {},
   "outputs": [
    {
     "data": {
      "text/plain": [
       "array([30, 40, 50])"
      ]
     },
     "execution_count": 24,
     "metadata": {},
     "output_type": "execute_result"
    }
   ],
   "source": [
    "array_2\n"
   ]
  },
  {
   "cell_type": "code",
   "execution_count": 26,
   "id": "94061b56-37a4-43cd-8521-95840e9c4079",
   "metadata": {},
   "outputs": [
    {
     "name": "stdout",
     "output_type": "stream",
     "text": [
      "[31 42 53]\n"
     ]
    }
   ],
   "source": [
    "print (array_1+array_2)"
   ]
  },
  {
   "cell_type": "code",
   "execution_count": 30,
   "id": "dde063d2-afde-4e3d-9a9b-f27a8769ac0b",
   "metadata": {},
   "outputs": [
    {
     "name": "stdout",
     "output_type": "stream",
     "text": [
      "[1, 2, 3, 30, 40, 50]\n"
     ]
    }
   ],
   "source": [
    "list_1=[1,2,3]\n",
    "list_2=[30,40,50]\n",
    "print(list_1+list_2)"
   ]
  },
  {
   "cell_type": "code",
   "execution_count": 32,
   "id": "f80ef887-1ca5-4606-ba1a-5caf00bb9f94",
   "metadata": {},
   "outputs": [
    {
     "name": "stdout",
     "output_type": "stream",
     "text": [
      "[31, 42, 53]\n"
     ]
    }
   ],
   "source": [
    "list_ans=[]\n",
    "for i,j in zip(list_1,list_2):\n",
    "\n",
    "  list_ans.append(i+j)\n",
    "print(list_ans)"
   ]
  },
  {
   "cell_type": "code",
   "execution_count": null,
   "id": "12829dab-e58e-4360-a937-1d1314aa9bda",
   "metadata": {},
   "outputs": [],
   "source": [
    "--->NumPy arrays have fixed size of array creation but it is not the case when we talk above lists.\n",
    "--->The elements in the numpy array are all required to be of same data type.\n",
    "---->NumPy takes very less time to perform arithmetic activites between arrays where lists they take time.\n",
    "----> NumPy array takes less space as compared to that of lists."
   ]
  },
  {
   "cell_type": "code",
   "execution_count": 34,
   "id": "05384c81-5a56-4626-8f79-cceada28a51f",
   "metadata": {},
   "outputs": [
    {
     "data": {
      "text/plain": [
       "1"
      ]
     },
     "execution_count": 34,
     "metadata": {},
     "output_type": "execute_result"
    }
   ],
   "source": [
    "#how to check the dimension of the array:\n",
    "array_1.ndim"
   ]
  },
  {
   "cell_type": "code",
   "execution_count": 36,
   "id": "ce92caa9-5c76-4051-972c-adba7b91bcc7",
   "metadata": {},
   "outputs": [
    {
     "data": {
      "text/plain": [
       "2"
      ]
     },
     "execution_count": 36,
     "metadata": {},
     "output_type": "execute_result"
    }
   ],
   "source": [
    "ARRAY_3.ndim"
   ]
  },
  {
   "cell_type": "code",
   "execution_count": 38,
   "id": "426574bd-163c-4625-b46d-5a05b842f3ce",
   "metadata": {},
   "outputs": [
    {
     "data": {
      "text/plain": [
       "(3,)"
      ]
     },
     "execution_count": 38,
     "metadata": {},
     "output_type": "execute_result"
    }
   ],
   "source": [
    "#how we can check the shape of the matrix:\n",
    "array_1.shape"
   ]
  },
  {
   "cell_type": "code",
   "execution_count": 40,
   "id": "7af82e0f-f0fc-41e7-9848-23f78be3d9f9",
   "metadata": {},
   "outputs": [
    {
     "data": {
      "text/plain": [
       "(3, 3)"
      ]
     },
     "execution_count": 40,
     "metadata": {},
     "output_type": "execute_result"
    }
   ],
   "source": [
    "ARRAY_3.shape"
   ]
  },
  {
   "cell_type": "code",
   "execution_count": 42,
   "id": "4e59cdc0-01e0-4309-b561-c533e003a826",
   "metadata": {},
   "outputs": [
    {
     "data": {
      "text/plain": [
       "9"
      ]
     },
     "execution_count": 42,
     "metadata": {},
     "output_type": "execute_result"
    }
   ],
   "source": [
    "#how can we check the size of the array:\n",
    "ARRAY_3.size"
   ]
  },
  {
   "cell_type": "code",
   "execution_count": 44,
   "id": "98ded9b6-7485-40d7-9e0a-ef87e21ce7f1",
   "metadata": {},
   "outputs": [
    {
     "data": {
      "text/plain": [
       "3"
      ]
     },
     "execution_count": 44,
     "metadata": {},
     "output_type": "execute_result"
    }
   ],
   "source": [
    "array_1.size"
   ]
  },
  {
   "cell_type": "markdown",
   "id": "f04ce2c8-0743-48f3-96ff-4339c1b5f410",
   "metadata": {},
   "source": [
    "Array Attributes:"
   ]
  },
  {
   "cell_type": "code",
   "execution_count": 75,
   "id": "470d593e-6adb-4d2b-abe0-801e8d5e7160",
   "metadata": {},
   "outputs": [
    {
     "name": "stdout",
     "output_type": "stream",
     "text": [
      "[[0 1]\n",
      " [2 3]\n",
      " [4 5]\n",
      " [6 7]\n",
      " [8 9]]\n"
     ]
    }
   ],
   "source": [
    "a1=np.arange(10).reshape(5,2) #arrange helps us to create create same as that of the range function\n",
    "                #but in ID format\n",
    "print(a1)"
   ]
  },
  {
   "cell_type": "code",
   "execution_count": 71,
   "id": "a852bd58-b470-41a2-ae9a-2f908be6eb41",
   "metadata": {},
   "outputs": [],
   "source": [
    "a2=np.arange(12,dtype=\"float\").reshape(4,3)"
   ]
  },
  {
   "cell_type": "code",
   "execution_count": 73,
   "id": "f1cb56ed-3724-4fc1-a708-3cf0fc857ce1",
   "metadata": {},
   "outputs": [
    {
     "name": "stdout",
     "output_type": "stream",
     "text": [
      "[[ 0.  1.  2.]\n",
      " [ 3.  4.  5.]\n",
      " [ 6.  7.  8.]\n",
      " [ 9. 10. 11.]]\n"
     ]
    }
   ],
   "source": [
    "print(a2)"
   ]
  },
  {
   "cell_type": "code",
   "execution_count": 61,
   "id": "3a062a9c-0422-4740-b41b-2a0f5bdee3c3",
   "metadata": {},
   "outputs": [
    {
     "data": {
      "text/plain": [
       "12"
      ]
     },
     "execution_count": 61,
     "metadata": {},
     "output_type": "execute_result"
    }
   ],
   "source": [
    "12*1\n",
    "6*2\n",
    "2*6\n",
    "1*12\n",
    "3*4\n",
    "4*3"
   ]
  },
  {
   "cell_type": "code",
   "execution_count": 81,
   "id": "e195d52a-7d33-480e-a4dd-72d7c3fdacca",
   "metadata": {},
   "outputs": [],
   "source": [
    "a2=a2.astype(np.int64)  #changing the dtype of the array"
   ]
  },
  {
   "cell_type": "code",
   "execution_count": 85,
   "id": "5a9976e7-b45d-4ba3-b68e-39fcdd2310f5",
   "metadata": {},
   "outputs": [
    {
     "data": {
      "text/plain": [
       "array([[ 0,  4,  8],\n",
       "       [12, 16, 20],\n",
       "       [24, 28, 32],\n",
       "       [36, 40, 44]], dtype=int64)"
      ]
     },
     "execution_count": 85,
     "metadata": {},
     "output_type": "execute_result"
    }
   ],
   "source": [
    "a2*4"
   ]
  },
  {
   "cell_type": "code",
   "execution_count": 87,
   "id": "8e8e370b-a7db-4e5e-8c11-677dde7810e9",
   "metadata": {},
   "outputs": [
    {
     "name": "stdout",
     "output_type": "stream",
     "text": [
      "[0 1 2]\n",
      "[3 4 5]\n",
      "[6 7 8]\n",
      "[ 9 10 11]\n"
     ]
    }
   ],
   "source": [
    "for i in a2:\n",
    "    print(i)"
   ]
  },
  {
   "cell_type": "code",
   "execution_count": 89,
   "id": "ea482537-eae0-4bcf-bca8-7cd13d568d4c",
   "metadata": {},
   "outputs": [
    {
     "name": "stdout",
     "output_type": "stream",
     "text": [
      "0\n",
      "1\n",
      "2\n",
      "3\n",
      "4\n",
      "5\n",
      "6\n",
      "7\n",
      "8\n",
      "9\n",
      "10\n",
      "11\n"
     ]
    }
   ],
   "source": [
    "for i in np.nditer(a2):\n",
    "    print(i)"
   ]
  },
  {
   "cell_type": "code",
   "execution_count": 91,
   "id": "f7a17d84-1103-45a7-bb54-b8c6afdbe6fe",
   "metadata": {},
   "outputs": [
    {
     "data": {
      "text/plain": [
       "array([[False, False, False],\n",
       "       [False, False, False],\n",
       "       [ True,  True,  True],\n",
       "       [ True,  True,  True]])"
      ]
     },
     "execution_count": 91,
     "metadata": {},
     "output_type": "execute_result"
    }
   ],
   "source": [
    "a2>5"
   ]
  },
  {
   "cell_type": "code",
   "execution_count": null,
   "id": "bb3fa9f0-7e5f-46fa-a581-409fc2edbeac",
   "metadata": {},
   "outputs": [],
   "source": []
  }
 ],
 "metadata": {
  "kernelspec": {
   "display_name": "Python 3 (ipykernel)",
   "language": "python",
   "name": "python3"
  },
  "language_info": {
   "codemirror_mode": {
    "name": "ipython",
    "version": 3
   },
   "file_extension": ".py",
   "mimetype": "text/x-python",
   "name": "python",
   "nbconvert_exporter": "python",
   "pygments_lexer": "ipython3",
   "version": "3.12.4"
  }
 },
 "nbformat": 4,
 "nbformat_minor": 5
}
