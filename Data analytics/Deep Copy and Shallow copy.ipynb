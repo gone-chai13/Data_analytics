{
 "cells": [
  {
   "cell_type": "code",
   "execution_count": 4,
   "id": "f4cabaec-8ff0-41cf-ad9b-57b32bc2403b",
   "metadata": {},
   "outputs": [
    {
     "name": "stdout",
     "output_type": "stream",
     "text": [
      "[10, 203, 40, 50]\n"
     ]
    }
   ],
   "source": [
    "list_1=[10,203,40,50]\n",
    "x=list_1.copy()\n",
    "print(x)"
   ]
  },
  {
   "cell_type": "code",
   "execution_count": 6,
   "id": "accb017f-27c1-4bee-b843-f7a6c4bb30fb",
   "metadata": {},
   "outputs": [
    {
     "data": {
      "text/plain": [
       "2844899919040"
      ]
     },
     "execution_count": 6,
     "metadata": {},
     "output_type": "execute_result"
    }
   ],
   "source": [
    "id(list_1)"
   ]
  },
  {
   "cell_type": "code",
   "execution_count": 8,
   "id": "bf7267eb-ba44-4bbd-8434-44b3b93581f9",
   "metadata": {},
   "outputs": [
    {
     "data": {
      "text/plain": [
       "2844899918464"
      ]
     },
     "execution_count": 8,
     "metadata": {},
     "output_type": "execute_result"
    }
   ],
   "source": [
    "id(x)"
   ]
  },
  {
   "cell_type": "code",
   "execution_count": 10,
   "id": "9552bf41-cdca-4c00-a21e-4de3a78de4ee",
   "metadata": {},
   "outputs": [
    {
     "name": "stdout",
     "output_type": "stream",
     "text": [
      "[10, 203, 40, 50]\n"
     ]
    }
   ],
   "source": [
    "y=list_1\n",
    "print(y)"
   ]
  },
  {
   "cell_type": "code",
   "execution_count": 12,
   "id": "387ac95b-24d2-4c8b-baa3-95ef81a15395",
   "metadata": {},
   "outputs": [
    {
     "data": {
      "text/plain": [
       "2844899919040"
      ]
     },
     "execution_count": 12,
     "metadata": {},
     "output_type": "execute_result"
    }
   ],
   "source": [
    "id(y)\n"
   ]
  },
  {
   "cell_type": "code",
   "execution_count": null,
   "id": "ec1df665-f4d9-4000-8f12-5863424036a5",
   "metadata": {},
   "outputs": [],
   "source": []
  }
 ],
 "metadata": {
  "kernelspec": {
   "display_name": "Python 3 (ipykernel)",
   "language": "python",
   "name": "python3"
  },
  "language_info": {
   "codemirror_mode": {
    "name": "ipython",
    "version": 3
   },
   "file_extension": ".py",
   "mimetype": "text/x-python",
   "name": "python",
   "nbconvert_exporter": "python",
   "pygments_lexer": "ipython3",
   "version": "3.12.4"
  }
 },
 "nbformat": 4,
 "nbformat_minor": 5
}
