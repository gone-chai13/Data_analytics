{
 "cells": [
  {
   "cell_type": "markdown",
   "id": "37424b32-523f-4a5f-85b0-d04154a1c53e",
   "metadata": {},
   "source": [
    "# Different ways of creating NumPy arrays:"
   ]
  },
  {
   "cell_type": "code",
   "execution_count": 6,
   "id": "eddf0f07-3fef-4aaa-9a62-29607ee8f012",
   "metadata": {},
   "outputs": [],
   "source": [
    "import numpy as np"
   ]
  },
  {
   "cell_type": "code",
   "execution_count": 8,
   "id": "b1641f02-a7c8-45da-b285-9f49dfacee56",
   "metadata": {},
   "outputs": [],
   "source": [
    "var_1=np.array([1,2,3,4]) #ID"
   ]
  },
  {
   "cell_type": "code",
   "execution_count": 10,
   "id": "2a42d34e-1609-4b88-bea4-f3d37fb828e2",
   "metadata": {},
   "outputs": [
    {
     "name": "stdout",
     "output_type": "stream",
     "text": [
      "[1 2 3 4]\n"
     ]
    }
   ],
   "source": [
    "print(var_1)"
   ]
  },
  {
   "cell_type": "code",
   "execution_count": 12,
   "id": "efe1a943-b28a-4718-993c-b5c1dfc7f2a2",
   "metadata": {},
   "outputs": [],
   "source": [
    "var_2=np.array([[1,2,3],[4,5,6]])"
   ]
  },
  {
   "cell_type": "code",
   "execution_count": 14,
   "id": "138e80da-3736-4b70-8278-74939207334f",
   "metadata": {},
   "outputs": [
    {
     "name": "stdout",
     "output_type": "stream",
     "text": [
      "[[1 2 3]\n",
      " [4 5 6]]\n"
     ]
    }
   ],
   "source": [
    "print(var_2)"
   ]
  },
  {
   "cell_type": "code",
   "execution_count": 18,
   "id": "9b9c0bde-5c86-412e-8be1-9f8765963ad3",
   "metadata": {},
   "outputs": [
    {
     "data": {
      "text/plain": [
       "array([[0, 0, 0],\n",
       "       [0, 0, 0],\n",
       "       [0, 0, 0]])"
      ]
     },
     "execution_count": 18,
     "metadata": {},
     "output_type": "execute_result"
    }
   ],
   "source": [
    "#array of zero:\n",
    "z=np.zeros((3,3),dtype=\"int\")\n",
    "z"
   ]
  },
  {
   "cell_type": "code",
   "execution_count": 28,
   "id": "e8c0648e-94aa-4b84-aee8-2be044cbc8bd",
   "metadata": {},
   "outputs": [
    {
     "data": {
      "text/plain": [
       "array([[0.96702984, 0.54723225, 0.97268436, 0.71481599],\n",
       "       [0.69772882, 0.2160895 , 0.97627445, 0.00623026],\n",
       "       [0.25298236, 0.43479153, 0.77938292, 0.19768507],\n",
       "       [0.86299324, 0.98340068, 0.16384224, 0.59733394]])"
      ]
     },
     "execution_count": 28,
     "metadata": {},
     "output_type": "execute_result"
    }
   ],
   "source": [
    "#array of random elements:\n",
    "np.random.seed(4)\n",
    "random=np.random.rand(4,4)\n",
    "random"
   ]
  },
  {
   "cell_type": "code",
   "execution_count": 32,
   "id": "f83f5fa6-003a-427b-b23a-a7515b4bfa95",
   "metadata": {},
   "outputs": [
    {
     "data": {
      "text/plain": [
       "array([[ 0.05056171,  0.49995133, -0.99590893,  0.69359851],\n",
       "       [-0.41830152, -1.58457724, -0.64770677,  0.59857517],\n",
       "       [ 0.33225003, -1.14747663,  0.61866969, -0.08798693],\n",
       "       [ 0.4250724 ,  0.33225315, -1.15681626,  0.35099715]])"
      ]
     },
     "execution_count": 32,
     "metadata": {},
     "output_type": "execute_result"
    }
   ],
   "source": [
    "np.random.seed(4)\n",
    "np.random.randn(4,4)"
   ]
  },
  {
   "cell_type": "code",
   "execution_count": 43,
   "id": "a561ed21-5f9a-4594-9801-48c376ea95c0",
   "metadata": {},
   "outputs": [],
   "source": [
    "np.random.seed(4)\n",
    "x_1=np.random.randint(low=50,high=100,size=(4,4))"
   ]
  },
  {
   "cell_type": "markdown",
   "id": "3beabe82-846f-4ef6-9503-d94d284a1962",
   "metadata": {},
   "source": [
    "# Slicing and indexing:"
   ]
  },
  {
   "cell_type": "code",
   "execution_count": 45,
   "id": "08bd53b9-a0cb-4bf9-b372-ae01d3430880",
   "metadata": {},
   "outputs": [
    {
     "data": {
      "text/plain": [
       "array([[96, 55, 51, 90],\n",
       "       [73, 58, 59, 89],\n",
       "       [95, 80, 90, 86],\n",
       "       [94, 88, 92, 53]])"
      ]
     },
     "execution_count": 45,
     "metadata": {},
     "output_type": "execute_result"
    }
   ],
   "source": [
    "x_1"
   ]
  },
  {
   "cell_type": "code",
   "execution_count": 47,
   "id": "32ec3e54-6fb4-4db6-9b93-c3b71c1930f1",
   "metadata": {},
   "outputs": [
    {
     "data": {
      "text/plain": [
       "58"
      ]
     },
     "execution_count": 47,
     "metadata": {},
     "output_type": "execute_result"
    }
   ],
   "source": [
    "x_1[1,1]"
   ]
  },
  {
   "cell_type": "code",
   "execution_count": 49,
   "id": "cd0d91f5-1502-4674-bdf7-f9be861354d7",
   "metadata": {},
   "outputs": [
    {
     "data": {
      "text/plain": [
       "94"
      ]
     },
     "execution_count": 49,
     "metadata": {},
     "output_type": "execute_result"
    }
   ],
   "source": [
    "x_1[3,0]"
   ]
  },
  {
   "cell_type": "code",
   "execution_count": 53,
   "id": "50eebe53-2e7a-486d-9aba-94c9cf2a45c4",
   "metadata": {},
   "outputs": [
    {
     "data": {
      "text/plain": [
       "array([[96, 55],\n",
       "       [73, 58]])"
      ]
     },
     "execution_count": 53,
     "metadata": {},
     "output_type": "execute_result"
    }
   ],
   "source": [
    "x_1[0:2,0:2]"
   ]
  },
  {
   "cell_type": "code",
   "execution_count": 55,
   "id": "1ecfed46-a976-4b9e-a65d-10b654d73c2b",
   "metadata": {},
   "outputs": [
    {
     "data": {
      "text/plain": [
       "array([[90, 86]])"
      ]
     },
     "execution_count": 55,
     "metadata": {},
     "output_type": "execute_result"
    }
   ],
   "source": [
    "x_1[2:3,2:]"
   ]
  },
  {
   "cell_type": "markdown",
   "id": "d0a6dfb1-d954-4ca9-be55-c1ec16874504",
   "metadata": {},
   "source": [
    "#Manipulation of array:"
   ]
  },
  {
   "cell_type": "code",
   "execution_count": 60,
   "id": "8ee2897f-9d53-4374-b2b5-13f7e18cec6f",
   "metadata": {},
   "outputs": [
    {
     "data": {
      "text/plain": [
       "array([[1, 0, 0],\n",
       "       [0, 1, 0],\n",
       "       [0, 0, 1]])"
      ]
     },
     "execution_count": 60,
     "metadata": {},
     "output_type": "execute_result"
    }
   ],
   "source": [
    "#Creation of identity matrix:\n",
    "np.identity(3,dtype=\"int\")"
   ]
  },
  {
   "cell_type": "code",
   "execution_count": 68,
   "id": "98ed335b-58d3-4d4d-b420-e4d258201823",
   "metadata": {},
   "outputs": [],
   "source": [
    "b=np.arange(1,13).reshape(3,4)"
   ]
  },
  {
   "cell_type": "code",
   "execution_count": 70,
   "id": "3918f8b7-ac14-4d41-833b-e477d7193f79",
   "metadata": {},
   "outputs": [
    {
     "data": {
      "text/plain": [
       "array([[ 1,  2,  3,  4],\n",
       "       [ 5,  6,  7,  8],\n",
       "       [ 9, 10, 11, 12]])"
      ]
     },
     "execution_count": 70,
     "metadata": {},
     "output_type": "execute_result"
    }
   ],
   "source": [
    "b"
   ]
  },
  {
   "cell_type": "code",
   "execution_count": 72,
   "id": "d46fc6e6-2553-4ce0-9760-f3a8156c5052",
   "metadata": {},
   "outputs": [],
   "source": [
    "b=b.ravel()"
   ]
  },
  {
   "cell_type": "code",
   "execution_count": 74,
   "id": "b408ef7e-4f66-4fed-817f-b625ed2e7599",
   "metadata": {},
   "outputs": [
    {
     "data": {
      "text/plain": [
       "array([ 1,  2,  3,  4,  5,  6,  7,  8,  9, 10, 11, 12])"
      ]
     },
     "execution_count": 74,
     "metadata": {},
     "output_type": "execute_result"
    }
   ],
   "source": [
    "b"
   ]
  },
  {
   "cell_type": "code",
   "execution_count": 76,
   "id": "160798f8-988d-4670-bfa3-de7e72060887",
   "metadata": {},
   "outputs": [
    {
     "data": {
      "text/plain": [
       "array([[ 1,  2,  3],\n",
       "       [ 4,  5,  6],\n",
       "       [ 7,  8,  9],\n",
       "       [10, 11, 12]])"
      ]
     },
     "execution_count": 76,
     "metadata": {},
     "output_type": "execute_result"
    }
   ],
   "source": [
    "c=np.arange(1,13).reshape(4,3)\n",
    "c"
   ]
  },
  {
   "cell_type": "code",
   "execution_count": 78,
   "id": "2e191bcb-78a9-4912-912a-05fff859e10b",
   "metadata": {},
   "outputs": [
    {
     "data": {
      "text/plain": [
       "array([[ 1,  4,  7, 10],\n",
       "       [ 2,  5,  8, 11],\n",
       "       [ 3,  6,  9, 12]])"
      ]
     },
     "execution_count": 78,
     "metadata": {},
     "output_type": "execute_result"
    }
   ],
   "source": [
    "c.transpose()"
   ]
  },
  {
   "cell_type": "markdown",
   "id": "06e6c8e0-ef49-4dd8-9fad-56044c047dc8",
   "metadata": {},
   "source": [
    "#Stacking and Splitting of a matrix"
   ]
  },
  {
   "cell_type": "code",
   "execution_count": 81,
   "id": "cbc8759d-ca76-4f47-8057-eef03c4140fe",
   "metadata": {},
   "outputs": [],
   "source": [
    "mat_1=np.arange(12).reshape(3,4)\n",
    "mat_2=np.arange(12,24).reshape(3,4)"
   ]
  },
  {
   "cell_type": "code",
   "execution_count": 83,
   "id": "4ae796be-4a48-49af-b028-3a6edc7f3be7",
   "metadata": {},
   "outputs": [
    {
     "data": {
      "text/plain": [
       "array([[ 0,  1,  2,  3],\n",
       "       [ 4,  5,  6,  7],\n",
       "       [ 8,  9, 10, 11]])"
      ]
     },
     "execution_count": 83,
     "metadata": {},
     "output_type": "execute_result"
    }
   ],
   "source": [
    "mat_1"
   ]
  },
  {
   "cell_type": "code",
   "execution_count": 85,
   "id": "14498a1a-4c43-4325-9918-40abf084cdc0",
   "metadata": {},
   "outputs": [
    {
     "data": {
      "text/plain": [
       "array([[12, 13, 14, 15],\n",
       "       [16, 17, 18, 19],\n",
       "       [20, 21, 22, 23]])"
      ]
     },
     "execution_count": 85,
     "metadata": {},
     "output_type": "execute_result"
    }
   ],
   "source": [
    "mat_2"
   ]
  },
  {
   "cell_type": "code",
   "execution_count": 93,
   "id": "b9370bea-7998-436b-9ae5-9731f761f7fc",
   "metadata": {},
   "outputs": [
    {
     "data": {
      "text/plain": [
       "array([[ 0,  1,  2,  3],\n",
       "       [ 4,  5,  6,  7],\n",
       "       [ 8,  9, 10, 11],\n",
       "       [12, 13, 14, 15],\n",
       "       [16, 17, 18, 19],\n",
       "       [20, 21, 22, 23]])"
      ]
     },
     "execution_count": 93,
     "metadata": {},
     "output_type": "execute_result"
    }
   ],
   "source": [
    "v=np.vstack((mat_1,mat_2))\n",
    "v"
   ]
  },
  {
   "cell_type": "code",
   "execution_count": 91,
   "id": "0b86a84d-f798-4596-b6bc-a00a57c7df39",
   "metadata": {},
   "outputs": [
    {
     "data": {
      "text/plain": [
       "array([[ 0,  1,  2,  3, 12, 13, 14, 15],\n",
       "       [ 4,  5,  6,  7, 16, 17, 18, 19],\n",
       "       [ 8,  9, 10, 11, 20, 21, 22, 23]])"
      ]
     },
     "execution_count": 91,
     "metadata": {},
     "output_type": "execute_result"
    }
   ],
   "source": [
    "h=np.hstack((mat_1,mat_2))\n",
    "h"
   ]
  },
  {
   "cell_type": "code",
   "execution_count": 95,
   "id": "1dd95c8f-8443-49a5-b632-5e66396901f7",
   "metadata": {},
   "outputs": [
    {
     "data": {
      "text/plain": [
       "[array([[ 0,  1],\n",
       "        [ 4,  5],\n",
       "        [ 8,  9],\n",
       "        [12, 13],\n",
       "        [16, 17],\n",
       "        [20, 21]]),\n",
       " array([[ 2,  3],\n",
       "        [ 6,  7],\n",
       "        [10, 11],\n",
       "        [14, 15],\n",
       "        [18, 19],\n",
       "        [22, 23]])]"
      ]
     },
     "execution_count": 95,
     "metadata": {},
     "output_type": "execute_result"
    }
   ],
   "source": [
    "np.hsplit(v,2)"
   ]
  },
  {
   "cell_type": "code",
   "execution_count": 99,
   "id": "0e67f362-e9e8-479c-88e8-bd8adb6e13de",
   "metadata": {},
   "outputs": [
    {
     "data": {
      "text/plain": [
       "[array([[ 0,  1,  2,  3, 12, 13, 14, 15]]),\n",
       " array([[ 4,  5,  6,  7, 16, 17, 18, 19]]),\n",
       " array([[ 8,  9, 10, 11, 20, 21, 22, 23]])]"
      ]
     },
     "execution_count": 99,
     "metadata": {},
     "output_type": "execute_result"
    }
   ],
   "source": [
    "np.vsplit(h,3)"
   ]
  },
  {
   "cell_type": "code",
   "execution_count": 2,
   "id": "d235a5e8-905d-4dae-a6f8-5da5c4beaecb",
   "metadata": {},
   "outputs": [],
   "source": [
    "# Different ways of creating Numpy arrays:"
   ]
  },
  {
   "cell_type": "code",
   "execution_count": 4,
   "id": "9c4aa816-75af-47c6-a85c-eacc166fde3d",
   "metadata": {},
   "outputs": [],
   "source": [
    "import numpy as np"
   ]
  },
  {
   "cell_type": "code",
   "execution_count": 6,
   "id": "7de64888-cd2e-4cbd-bf3f-69f714be3044",
   "metadata": {},
   "outputs": [],
   "source": [
    "var_1=np.array([1,2,3,4]) #1D"
   ]
  },
  {
   "cell_type": "code",
   "execution_count": 8,
   "id": "eaaf6bdc-d55f-43be-a4a9-bd7e3f55a895",
   "metadata": {},
   "outputs": [
    {
     "name": "stdout",
     "output_type": "stream",
     "text": [
      "[1 2 3 4]\n"
     ]
    }
   ],
   "source": [
    "print(var_1)"
   ]
  },
  {
   "cell_type": "code",
   "execution_count": 10,
   "id": "9b63221f-1128-4aaf-bd2d-89878d0fc5fe",
   "metadata": {},
   "outputs": [],
   "source": [
    "var_2=np.array([[1,2,3],[4,5,6]])"
   ]
  },
  {
   "cell_type": "code",
   "execution_count": 12,
   "id": "95cda1d0-fe20-42eb-a720-bc39d3a5a47d",
   "metadata": {},
   "outputs": [
    {
     "name": "stdout",
     "output_type": "stream",
     "text": [
      "[[1 2 3]\n",
      " [4 5 6]]\n"
     ]
    }
   ],
   "source": [
    "print(var_2)"
   ]
  },
  {
   "cell_type": "code",
   "execution_count": 14,
   "id": "d90dc96b-fe86-4da0-80e2-74ef68f1a93d",
   "metadata": {},
   "outputs": [
    {
     "data": {
      "text/plain": [
       "array([[0, 0, 0],\n",
       "       [0, 0, 0],\n",
       "       [0, 0, 0]])"
      ]
     },
     "execution_count": 14,
     "metadata": {},
     "output_type": "execute_result"
    }
   ],
   "source": [
    "#array of zero:\n",
    "z=np.zeros((3,3),dtype=\"int\")\n",
    "z"
   ]
  },
  {
   "cell_type": "code",
   "execution_count": 16,
   "id": "678f49f6-56f2-41ea-82b1-6cc6649e2ae9",
   "metadata": {},
   "outputs": [
    {
     "data": {
      "text/plain": [
       "array([[1, 1, 1, 1],\n",
       "       [1, 1, 1, 1],\n",
       "       [1, 1, 1, 1],\n",
       "       [1, 1, 1, 1]])"
      ]
     },
     "execution_count": 16,
     "metadata": {},
     "output_type": "execute_result"
    }
   ],
   "source": [
    "#array of ones:\n",
    "x=np.ones((4,4),dtype=\"int\")\n",
    "x"
   ]
  },
  {
   "cell_type": "code",
   "execution_count": 18,
   "id": "14a85c56-f7e1-4883-9292-7a9f9b185fc4",
   "metadata": {},
   "outputs": [
    {
     "data": {
      "text/plain": [
       "array([[0.96702984, 0.54723225, 0.97268436, 0.71481599],\n",
       "       [0.69772882, 0.2160895 , 0.97627445, 0.00623026],\n",
       "       [0.25298236, 0.43479153, 0.77938292, 0.19768507],\n",
       "       [0.86299324, 0.98340068, 0.16384224, 0.59733394]])"
      ]
     },
     "execution_count": 18,
     "metadata": {},
     "output_type": "execute_result"
    }
   ],
   "source": [
    "#array of random elements:\n",
    "np.random.seed(4)\n",
    "random=np.random.rand(4,4)\n",
    "random"
   ]
  },
  {
   "cell_type": "code",
   "execution_count": 20,
   "id": "991bb190-ede3-42c9-97fc-b96108e82ff7",
   "metadata": {},
   "outputs": [
    {
     "data": {
      "text/plain": [
       "array([[ 0.05056171,  0.49995133, -0.99590893,  0.69359851],\n",
       "       [-0.41830152, -1.58457724, -0.64770677,  0.59857517],\n",
       "       [ 0.33225003, -1.14747663,  0.61866969, -0.08798693],\n",
       "       [ 0.4250724 ,  0.33225315, -1.15681626,  0.35099715]])"
      ]
     },
     "execution_count": 20,
     "metadata": {},
     "output_type": "execute_result"
    }
   ],
   "source": [
    "np.random.seed(4)\n",
    "np.random.randn(4,4)"
   ]
  },
  {
   "cell_type": "code",
   "execution_count": 22,
   "id": "0c6929f5-f314-4777-999a-6a3a344f77de",
   "metadata": {},
   "outputs": [],
   "source": [
    "x_1=np.random.randint(high=100,low=50,size=(4,4))"
   ]
  },
  {
   "cell_type": "markdown",
   "id": "5094e7ce-9664-432e-b2a0-e8098418c820",
   "metadata": {},
   "source": [
    "#Slicing and indexing"
   ]
  },
  {
   "cell_type": "code",
   "execution_count": 25,
   "id": "6aa430e6-181d-4f62-b5c3-27ba49aec4a5",
   "metadata": {},
   "outputs": [
    {
     "data": {
      "text/plain": [
       "array([[65, 84, 81, 67],\n",
       "       [98, 67, 75, 59],\n",
       "       [98, 62, 73, 80],\n",
       "       [72, 53, 61, 73]])"
      ]
     },
     "execution_count": 25,
     "metadata": {},
     "output_type": "execute_result"
    }
   ],
   "source": [
    "x_1"
   ]
  },
  {
   "cell_type": "code",
   "execution_count": 27,
   "id": "5305d6db-e229-4bea-bb5d-5c72c71b228d",
   "metadata": {},
   "outputs": [
    {
     "data": {
      "text/plain": [
       "67"
      ]
     },
     "execution_count": 27,
     "metadata": {},
     "output_type": "execute_result"
    }
   ],
   "source": [
    "x_1[1,1]"
   ]
  },
  {
   "cell_type": "code",
   "execution_count": 29,
   "id": "23b76e99-a388-4690-9699-39cea7905d4d",
   "metadata": {},
   "outputs": [
    {
     "data": {
      "text/plain": [
       "72"
      ]
     },
     "execution_count": 29,
     "metadata": {},
     "output_type": "execute_result"
    }
   ],
   "source": [
    "x_1[3,0]"
   ]
  },
  {
   "cell_type": "code",
   "execution_count": 31,
   "id": "b466894d-8b80-4b7f-ba12-a405d07749a8",
   "metadata": {},
   "outputs": [
    {
     "data": {
      "text/plain": [
       "array([[65, 84],\n",
       "       [98, 67]])"
      ]
     },
     "execution_count": 31,
     "metadata": {},
     "output_type": "execute_result"
    }
   ],
   "source": [
    "x_1[0:2,0:2]"
   ]
  },
  {
   "cell_type": "code",
   "execution_count": 33,
   "id": "f87b1b32-b081-4c95-bcf4-b1fc2915a5b0",
   "metadata": {},
   "outputs": [
    {
     "data": {
      "text/plain": [
       "array([[73, 80]])"
      ]
     },
     "execution_count": 33,
     "metadata": {},
     "output_type": "execute_result"
    }
   ],
   "source": [
    "x_1[2:3,2:]"
   ]
  },
  {
   "cell_type": "markdown",
   "id": "697983a9-093c-45dd-aa06-a938c054ba9c",
   "metadata": {},
   "source": [
    "#Manipulation of array:"
   ]
  },
  {
   "cell_type": "code",
   "execution_count": 38,
   "id": "8eacbabc-9469-4608-a664-20694274c6dd",
   "metadata": {},
   "outputs": [
    {
     "data": {
      "text/plain": [
       "array([[1, 0, 0],\n",
       "       [0, 1, 0],\n",
       "       [0, 0, 1]])"
      ]
     },
     "execution_count": 38,
     "metadata": {},
     "output_type": "execute_result"
    }
   ],
   "source": [
    "#creation of identity matrix:\n",
    "np.identity(3,dtype=\"int\")"
   ]
  },
  {
   "cell_type": "code",
   "execution_count": 42,
   "id": "436f0c16-99de-4776-a100-1f8ced050427",
   "metadata": {},
   "outputs": [],
   "source": [
    "b=np.arange(1,13).reshape(3,4)"
   ]
  },
  {
   "cell_type": "code",
   "execution_count": 44,
   "id": "e68280ef-ec87-4a61-ab52-a71d33d88a5d",
   "metadata": {},
   "outputs": [
    {
     "data": {
      "text/plain": [
       "array([[ 1,  2,  3,  4],\n",
       "       [ 5,  6,  7,  8],\n",
       "       [ 9, 10, 11, 12]])"
      ]
     },
     "execution_count": 44,
     "metadata": {},
     "output_type": "execute_result"
    }
   ],
   "source": [
    "b"
   ]
  },
  {
   "cell_type": "code",
   "execution_count": 48,
   "id": "c63c5d00-b76b-4844-9110-46a6fbd26fea",
   "metadata": {},
   "outputs": [],
   "source": [
    "b=b.ravel()"
   ]
  },
  {
   "cell_type": "code",
   "execution_count": 50,
   "id": "881846f5-e971-49d3-850d-5f17807bec44",
   "metadata": {},
   "outputs": [
    {
     "data": {
      "text/plain": [
       "array([ 1,  2,  3,  4,  5,  6,  7,  8,  9, 10, 11, 12])"
      ]
     },
     "execution_count": 50,
     "metadata": {},
     "output_type": "execute_result"
    }
   ],
   "source": [
    "b"
   ]
  },
  {
   "cell_type": "code",
   "execution_count": 52,
   "id": "b4fbc93a-a90c-4bb1-a64f-9761eeb2e2ee",
   "metadata": {},
   "outputs": [
    {
     "data": {
      "text/plain": [
       "array([[ 1,  2,  3],\n",
       "       [ 4,  5,  6],\n",
       "       [ 7,  8,  9],\n",
       "       [10, 11, 12]])"
      ]
     },
     "execution_count": 52,
     "metadata": {},
     "output_type": "execute_result"
    }
   ],
   "source": [
    "c=np.arange(1,13).reshape(4,3)\n",
    "c"
   ]
  },
  {
   "cell_type": "code",
   "execution_count": 56,
   "id": "1d87c617-ef98-4c0c-bef6-8dd32041b4c4",
   "metadata": {},
   "outputs": [
    {
     "data": {
      "text/plain": [
       "array([[ 1,  4,  7, 10],\n",
       "       [ 2,  5,  8, 11],\n",
       "       [ 3,  6,  9, 12]])"
      ]
     },
     "execution_count": 56,
     "metadata": {},
     "output_type": "execute_result"
    }
   ],
   "source": [
    "c.transpose()"
   ]
  },
  {
   "cell_type": "markdown",
   "id": "431bf911-3a13-4bf1-a403-911d780c158f",
   "metadata": {},
   "source": [
    "Stacking and Splitting of a matrix:"
   ]
  },
  {
   "cell_type": "code",
   "execution_count": 59,
   "id": "bf112ab5-f355-4130-8c99-e10d4a68a876",
   "metadata": {},
   "outputs": [],
   "source": [
    "mat_1=np.arange(12).reshape(3,4)\n",
    "mat_2=np.arange(12,24).reshape(3,4)"
   ]
  },
  {
   "cell_type": "code",
   "execution_count": 61,
   "id": "6683b298-5d87-4f2e-8356-d88c9f40ffab",
   "metadata": {},
   "outputs": [
    {
     "data": {
      "text/plain": [
       "array([[ 0,  1,  2,  3],\n",
       "       [ 4,  5,  6,  7],\n",
       "       [ 8,  9, 10, 11]])"
      ]
     },
     "execution_count": 61,
     "metadata": {},
     "output_type": "execute_result"
    }
   ],
   "source": [
    "mat_1"
   ]
  },
  {
   "cell_type": "code",
   "execution_count": 63,
   "id": "f17065f4-ec6f-433b-9d56-2c806e32a7d7",
   "metadata": {},
   "outputs": [
    {
     "data": {
      "text/plain": [
       "array([[12, 13, 14, 15],\n",
       "       [16, 17, 18, 19],\n",
       "       [20, 21, 22, 23]])"
      ]
     },
     "execution_count": 63,
     "metadata": {},
     "output_type": "execute_result"
    }
   ],
   "source": [
    "mat_2"
   ]
  },
  {
   "cell_type": "code",
   "execution_count": 75,
   "id": "704fa02f-5fae-4dc3-a934-76c4e7bd1cb3",
   "metadata": {},
   "outputs": [
    {
     "data": {
      "text/plain": [
       "array([[ 0,  1,  2,  3],\n",
       "       [ 4,  5,  6,  7],\n",
       "       [ 8,  9, 10, 11],\n",
       "       [12, 13, 14, 15],\n",
       "       [16, 17, 18, 19],\n",
       "       [20, 21, 22, 23]])"
      ]
     },
     "execution_count": 75,
     "metadata": {},
     "output_type": "execute_result"
    }
   ],
   "source": [
    "v=np.vstack((mat_1,mat_2))\n",
    "v"
   ]
  },
  {
   "cell_type": "code",
   "execution_count": 71,
   "id": "2a0cf821-6774-415d-814a-ef603693d755",
   "metadata": {},
   "outputs": [
    {
     "data": {
      "text/plain": [
       "array([[ 0,  1,  2,  3, 12, 13, 14, 15],\n",
       "       [ 4,  5,  6,  7, 16, 17, 18, 19],\n",
       "       [ 8,  9, 10, 11, 20, 21, 22, 23]])"
      ]
     },
     "execution_count": 71,
     "metadata": {},
     "output_type": "execute_result"
    }
   ],
   "source": [
    "h=np.hstack((mat_1,mat_2))\n",
    "h"
   ]
  },
  {
   "cell_type": "code",
   "execution_count": 77,
   "id": "71e5dc88-2155-4120-9920-641768d36192",
   "metadata": {},
   "outputs": [
    {
     "data": {
      "text/plain": [
       "[array([[ 0,  1],\n",
       "        [ 4,  5],\n",
       "        [ 8,  9],\n",
       "        [12, 13],\n",
       "        [16, 17],\n",
       "        [20, 21]]),\n",
       " array([[ 2,  3],\n",
       "        [ 6,  7],\n",
       "        [10, 11],\n",
       "        [14, 15],\n",
       "        [18, 19],\n",
       "        [22, 23]])]"
      ]
     },
     "execution_count": 77,
     "metadata": {},
     "output_type": "execute_result"
    }
   ],
   "source": [
    "np.hsplit(v,2)"
   ]
  },
  {
   "cell_type": "code",
   "execution_count": null,
   "id": "e68db633-f6d4-4be7-9f0c-ad18225c6e8c",
   "metadata": {},
   "outputs": [],
   "source": []
  }
 ],
 "metadata": {
  "kernelspec": {
   "display_name": "Python 3 (ipykernel)",
   "language": "python",
   "name": "python3"
  },
  "language_info": {
   "codemirror_mode": {
    "name": "ipython",
    "version": 3
   },
   "file_extension": ".py",
   "mimetype": "text/x-python",
   "name": "python",
   "nbconvert_exporter": "python",
   "pygments_lexer": "ipython3",
   "version": "3.12.4"
  }
 },
 "nbformat": 4,
 "nbformat_minor": 5
}
