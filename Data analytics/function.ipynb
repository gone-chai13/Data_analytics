{
 "cells": [
  {
   "cell_type": "code",
   "execution_count": null,
   "id": "414294cf-66f7-4a92-a005-1a4d04bd13b1",
   "metadata": {},
   "outputs": [],
   "source": [
    "functions are the block of code only runs when it is called.\n",
    "advantages of function:\n",
    "1.reuse\n",
    "2.Flexibility\n",
    "difference types of functions:\n",
    "1.built in functions. print(),type()\n",
    "2.user defined functions.\n",
    "3.Anonymous functions.\n",
    "4.recursive function."
   ]
  },
  {
   "cell_type": "code",
   "execution_count": null,
   "id": "86026624-809b-4f83-8527-d42ba9bdfd28",
   "metadata": {},
   "outputs": [],
   "source": [
    "syntax:\n",
    "def function_name(parameters_1,parameters_2,....):\n",
    "    body of the function\n",
    "    print()/return \n",
    "#calling the function\n",
    "function_name(arg_1,arg_2,....)"
   ]
  },
  {
   "cell_type": "code",
   "execution_count": 5,
   "id": "a74f987d-1401-4eb5-9287-fe16d159d04f",
   "metadata": {},
   "outputs": [],
   "source": [
    "#sum of two numbers using functions:\n",
    "def sum_1(num_1,num_2):\n",
    "    print(num_1+num_2)"
   ]
  },
  {
   "cell_type": "code",
   "execution_count": 7,
   "id": "5c03a2b0-0a40-4552-afd2-a80e90916484",
   "metadata": {},
   "outputs": [
    {
     "name": "stdout",
     "output_type": "stream",
     "text": [
      "70\n"
     ]
    }
   ],
   "source": [
    "sum_1(30,40)"
   ]
  },
  {
   "cell_type": "code",
   "execution_count": 17,
   "id": "db168809-e7fb-4ec0-8b3e-6e9bb3100e53",
   "metadata": {},
   "outputs": [],
   "source": [
    "def sub_1(var1,var2):\n",
    "    return var_1-var_2"
   ]
  },
  {
   "cell_type": "code",
   "execution_count": 21,
   "id": "dc95a353-6ec0-4b57-a88b-c55fc8401ebd",
   "metadata": {},
   "outputs": [
    {
     "data": {
      "text/plain": [
       "30"
      ]
     },
     "execution_count": 21,
     "metadata": {},
     "output_type": "execute_result"
    }
   ],
   "source": [
    "#sum of two numbers with the help of functions:\n",
    "def sum_1(param_1,param_2):\n",
    "    return param_1+param_2\n",
    "sum_1(10,20)"
   ]
  },
  {
   "cell_type": "code",
   "execution_count": 11,
   "id": "b867f5ee-b44b-453f-ad2e-212712601a4e",
   "metadata": {},
   "outputs": [],
   "source": [
    "def master(a1,b1):\n",
    "    ans_1=sum_1(a1,b1)\n",
    "    ans_2=sub_1(a1,b1)\n",
    "    print( ans_1, ans_2)"
   ]
  },
  {
   "cell_type": "code",
   "execution_count": 15,
   "id": "4cf6f2fb-fa8d-4425-b8d4-6f13817d6bdf",
   "metadata": {},
   "outputs": [
    {
     "name": "stdout",
     "output_type": "stream",
     "text": [
      "30\n",
      "-10\n",
      "None None\n"
     ]
    }
   ],
   "source": [
    "master(10,20)"
   ]
  },
  {
   "cell_type": "code",
   "execution_count": 36,
   "id": "49f54564-615e-44c6-9d50-1437ba812ed0",
   "metadata": {},
   "outputs": [],
   "source": [
    "#variable length argument.\n",
    "def sum_n(*param_1):\n",
    "    sum_1=0\n",
    "    for i in param_1:\n",
    "     sum_1+=i\n",
    "    print(sum_1)\n"
   ]
  },
  {
   "cell_type": "code",
   "execution_count": 38,
   "id": "bdc687b8-d0b7-4de5-a18b-006e05cda423",
   "metadata": {},
   "outputs": [
    {
     "name": "stdout",
     "output_type": "stream",
     "text": [
      "60\n"
     ]
    }
   ],
   "source": [
    "sum_n(10,20,30)"
   ]
  },
  {
   "cell_type": "code",
   "execution_count": 40,
   "id": "d8f7a900-6ff5-4794-bc79-8e25f08a2f7a",
   "metadata": {},
   "outputs": [
    {
     "name": "stdout",
     "output_type": "stream",
     "text": [
      "220\n"
     ]
    }
   ],
   "source": [
    "sum_n(40,50,60,70)"
   ]
  },
  {
   "cell_type": "markdown",
   "id": "c895421d-e95b-403c-bc9e-18cea4413dfe",
   "metadata": {},
   "source": [
    "#Anonymous Functions"
   ]
  },
  {
   "cell_type": "code",
   "execution_count": null,
   "id": "192a90c8-dd6e-48e6-9d76-7b87097d1ec7",
   "metadata": {},
   "outputs": [],
   "source": [
    "syntax:\n",
    "\n",
    "var=lambda arguments_1,arg_2.....:expression\n",
    "var(10,20)"
   ]
  },
  {
   "cell_type": "code",
   "execution_count": 53,
   "id": "ba6e4e92-1a0d-4b88-a3f3-f9d02870e198",
   "metadata": {},
   "outputs": [
    {
     "data": {
      "text/plain": [
       "1000"
      ]
     },
     "execution_count": 53,
     "metadata": {},
     "output_type": "execute_result"
    }
   ],
   "source": [
    "#cube of a number\n",
    "num_cube=lambda a:a**3\n",
    "num_cube(10)"
   ]
  },
  {
   "cell_type": "code",
   "execution_count": 55,
   "id": "386ece71-b7b8-4ca8-9d94-ef5917d517c7",
   "metadata": {},
   "outputs": [
    {
     "data": {
      "text/plain": [
       "216"
      ]
     },
     "execution_count": 55,
     "metadata": {},
     "output_type": "execute_result"
    }
   ],
   "source": [
    "num_cube(6)"
   ]
  },
  {
   "cell_type": "code",
   "execution_count": 57,
   "id": "8056891c-c40c-4911-8e2a-84a8f6d8ecf0",
   "metadata": {},
   "outputs": [],
   "source": [
    "#check if the given number is even or odd:\n",
    "var_1=lambda x:\"it is even number\" if x%2==0 else \"Not an even number\"\n"
   ]
  },
  {
   "cell_type": "code",
   "execution_count": 59,
   "id": "fa41e3d2-028f-4f75-9fdb-3bf86a073163",
   "metadata": {},
   "outputs": [
    {
     "data": {
      "text/plain": [
       "'it is even number'"
      ]
     },
     "execution_count": 59,
     "metadata": {},
     "output_type": "execute_result"
    }
   ],
   "source": [
    "var_1(30)"
   ]
  },
  {
   "cell_type": "code",
   "execution_count": 61,
   "id": "a7adc754-9f32-4585-b4ae-b735aebfddb0",
   "metadata": {},
   "outputs": [
    {
     "data": {
      "text/plain": [
       "'Not an even number'"
      ]
     },
     "execution_count": 61,
     "metadata": {},
     "output_type": "execute_result"
    }
   ],
   "source": [
    "var_1(9)"
   ]
  },
  {
   "cell_type": "markdown",
   "id": "c7351ffb-30be-43e5-8d83-fc0259c29924",
   "metadata": {},
   "source": [
    "Recursive functions:"
   ]
  },
  {
   "cell_type": "code",
   "execution_count": null,
   "id": "065baefe-22cf-4bd1-a470-918d3e4fb19b",
   "metadata": {},
   "outputs": [],
   "source": [
    "Recursive functions are the functions that call themselves in the definition of it."
   ]
  },
  {
   "cell_type": "code",
   "execution_count": null,
   "id": "79a5a5c5-5aa4-41f5-b699-89396ecad7a7",
   "metadata": {},
   "outputs": [],
   "source": [
    "syntax:\n",
    "def name_of_functions(parameter_1,....):\n",
    "    .\n",
    "    .\n",
    "    .\n",
    "    .\n",
    "    name_of_functions(arg,....)\n",
    "call:\n",
    "name_of_functions(arg....)"
   ]
  },
  {
   "cell_type": "code",
   "execution_count": 66,
   "id": "c4e613bc-fe72-4adf-9796-f8a4cce29d2c",
   "metadata": {},
   "outputs": [],
   "source": [
    "def factorial(x):\n",
    "    if x==1:\n",
    "        return 1\n",
    "    else:\n",
    "        return x* factorial(x-1)"
   ]
  },
  {
   "cell_type": "code",
   "execution_count": 68,
   "id": "96d70ef2-d92f-4e6d-9d5f-2a3c4753e841",
   "metadata": {},
   "outputs": [
    {
     "data": {
      "text/plain": [
       "120"
      ]
     },
     "execution_count": 68,
     "metadata": {},
     "output_type": "execute_result"
    }
   ],
   "source": [
    "factorial(5)"
   ]
  },
  {
   "cell_type": "code",
   "execution_count": null,
   "id": "dd6a5fc6-0256-485e-9257-ff8cad46bb5a",
   "metadata": {},
   "outputs": [],
   "source": []
  }
 ],
 "metadata": {
  "kernelspec": {
   "display_name": "Python 3 (ipykernel)",
   "language": "python",
   "name": "python3"
  },
  "language_info": {
   "codemirror_mode": {
    "name": "ipython",
    "version": 3
   },
   "file_extension": ".py",
   "mimetype": "text/x-python",
   "name": "python",
   "nbconvert_exporter": "python",
   "pygments_lexer": "ipython3",
   "version": "3.12.4"
  }
 },
 "nbformat": 4,
 "nbformat_minor": 5
}
