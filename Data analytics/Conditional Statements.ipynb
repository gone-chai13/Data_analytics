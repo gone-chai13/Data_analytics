{
 "cells": [
  {
   "cell_type": "code",
   "execution_count": null,
   "id": "7878b762-d560-42d8-84b9-90b735093c3b",
   "metadata": {},
   "outputs": [],
   "source": [
    "Conditional statements are the part of python program which we use whenever we want the block code to get executed on the basis of some conditions.\n",
    "indentation is the 4 space or 1 tab gap in the python which by defaults gets picked up from the new line whenever we end any previous python statement from colon.\n",
    "syntax:\n",
    "if condition:\n",
    "    block of code\n",
    "    ........\n",
    "else:\n",
    "    block of code \n",
    "    ......\n",
    "    \n",
    "    "
   ]
  },
  {
   "cell_type": "code",
   "execution_count": 3,
   "id": "b4d436c9-9116-467c-8036-2f1af54b64c0",
   "metadata": {},
   "outputs": [
    {
     "name": "stdout",
     "output_type": "stream",
     "text": [
      "Yes it is divixible by 2\n"
     ]
    }
   ],
   "source": [
    "#find out if the number is divisible by 2 or not.\n",
    "num_1=4\n",
    "if num_1%2==0:\n",
    "    print(\"Yes it is divixible by 2\")\n",
    "else:\n",
    "    print(\"Not divisible by 2\")\n",
    "    "
   ]
  },
  {
   "cell_type": "code",
   "execution_count": 5,
   "id": "7b02577c-739b-4d0a-b583-b51709d1cc21",
   "metadata": {},
   "outputs": [
    {
     "name": "stdout",
     "output_type": "stream",
     "text": [
      "Yes it is equal\n"
     ]
    }
   ],
   "source": [
    "if num_1==4:\n",
    "    print(\"Yes it is equal\")"
   ]
  },
  {
   "cell_type": "code",
   "execution_count": 7,
   "id": "dcbbf9d9-dc8b-4c25-bb91-9278a1916fce",
   "metadata": {},
   "outputs": [
    {
     "name": "stdout",
     "output_type": "stream",
     "text": [
      "Yes it is\n"
     ]
    }
   ],
   "source": [
    "#if elif else:\n",
    "if num_1>5:\n",
    "    print(\"Yes it is\")\n",
    "elif num_1==4:\n",
    "    print(\"Yes it is\")\n",
    "else:\n",
    "    print(\"Nothing is matching\")"
   ]
  },
  {
   "cell_type": "code",
   "execution_count": null,
   "id": "f211568b-77e1-4c7a-b53a-aafddcd09e78",
   "metadata": {},
   "outputs": [],
   "source": []
  }
 ],
 "metadata": {
  "kernelspec": {
   "display_name": "Python 3 (ipykernel)",
   "language": "python",
   "name": "python3"
  },
  "language_info": {
   "codemirror_mode": {
    "name": "ipython",
    "version": 3
   },
   "file_extension": ".py",
   "mimetype": "text/x-python",
   "name": "python",
   "nbconvert_exporter": "python",
   "pygments_lexer": "ipython3",
   "version": "3.12.4"
  }
 },
 "nbformat": 4,
 "nbformat_minor": 5
}
