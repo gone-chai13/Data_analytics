{
 "cells": [
  {
   "cell_type": "markdown",
   "id": "015d79f5-4cca-4a19-9e55-8c67391021eb",
   "metadata": {},
   "source": [
    "What is Python"
   ]
  },
  {
   "cell_type": "code",
   "execution_count": null,
   "id": "d040a147-a9a5-4454-9fe4-0df540f1048b",
   "metadata": {},
   "outputs": [],
   "source": [
    "print(\"hello\")"
   ]
  },
  {
   "cell_type": "code",
   "execution_count": null,
   "id": "a5efa4ff-a916-4c22-8467-3f89d3fc058a",
   "metadata": {},
   "outputs": [],
   "source": [
    "----> The Programming lang,general purpose,interpreted and high level programming lang"
   ]
  },
  {
   "cell_type": "markdown",
   "id": "425bfd9e-a681-4293-a892-3592ad4b2284",
   "metadata": {},
   "source": [
    "Keyword and Identifiers:"
   ]
  },
  {
   "cell_type": "code",
   "execution_count": null,
   "id": "0ee5e248-aed1-4b74-9a37-826532ba3f94",
   "metadata": {},
   "outputs": [],
   "source": [
    "import True False overall 36 keywords.\n",
    "---->Keywords are somereserve words in python\n",
    "IDENTIFIERS:\n",
    "1.we can declare only alphabets and _as the first place of identifier,\n",
    "2.Special characters are not allowed.\n",
    "3.We cannot create keywords as the identifiers,"
   ]
  },
  {
   "cell_type": "code",
   "execution_count": 35,
   "id": "2be0c7be-08f7-429f-a1b9-a3606f7b679d",
   "metadata": {},
   "outputs": [],
   "source": [
    "megha_=100"
   ]
  },
  {
   "cell_type": "markdown",
   "id": "8e931b9a-78b4-448b-a4ae-590a69044b98",
   "metadata": {},
   "source": [
    "Data Types in python"
   ]
  },
  {
   "cell_type": "code",
   "execution_count": null,
   "id": "0083c689-65b9-4491-94eb-d6c93edd1690",
   "metadata": {},
   "outputs": [],
   "source": [
    "1.Primitive Data: 1. It is homogenous in nature and have the property that one identifier capture only one value:\n",
    "1.int\n",
    "2.Float\n",
    "3.String\n",
    "4.Bool\n",
    "5.None"
   ]
  },
  {
   "cell_type": "markdown",
   "id": "b4bbd1ef-d51e-4904-ad68-29839a8bb431",
   "metadata": {},
   "source": [
    "#Int:"
   ]
  },
  {
   "cell_type": "code",
   "execution_count": 7,
   "id": "961d598a-c0c9-4757-9233-f9ac01636dac",
   "metadata": {},
   "outputs": [
    {
     "name": "stdout",
     "output_type": "stream",
     "text": [
      "56\n"
     ]
    }
   ],
   "source": [
    "num_1=56\n",
    "print(num_1)"
   ]
  },
  {
   "cell_type": "code",
   "execution_count": 11,
   "id": "33cf9339-be46-41bd-b488-9c898c623c6d",
   "metadata": {},
   "outputs": [
    {
     "name": "stdout",
     "output_type": "stream",
     "text": [
      "<class 'int'>\n"
     ]
    }
   ],
   "source": [
    "#type() is a builtin function that helps us to judge the data type of any identifier.\n",
    "print(type(num_1))"
   ]
  },
  {
   "cell_type": "code",
   "execution_count": 15,
   "id": "0fc5f1f7-00a4-4e98-a4a4-738e554a693b",
   "metadata": {},
   "outputs": [
    {
     "data": {
      "text/plain": [
       "int"
      ]
     },
     "execution_count": 15,
     "metadata": {},
     "output_type": "execute_result"
    }
   ],
   "source": [
    "num_2=-67\n",
    "type(num_2)"
   ]
  },
  {
   "cell_type": "markdown",
   "id": "75d9df8f-78d4-47a2-ae7b-720c61a5a281",
   "metadata": {},
   "source": [
    "#Float"
   ]
  },
  {
   "cell_type": "code",
   "execution_count": 19,
   "id": "7e75788d-74d6-44ff-b8a8-3f88651437a1",
   "metadata": {},
   "outputs": [
    {
     "data": {
      "text/plain": [
       "float"
      ]
     },
     "execution_count": 19,
     "metadata": {},
     "output_type": "execute_result"
    }
   ],
   "source": [
    "x=56.0\n",
    "type(x)"
   ]
  },
  {
   "cell_type": "markdown",
   "id": "99720730-68e3-4cb9-bb64-8ea7f365a397",
   "metadata": {},
   "source": [
    "String"
   ]
  },
  {
   "cell_type": "code",
   "execution_count": 24,
   "id": "49266c42-6c6a-469e-892e-80188e59c810",
   "metadata": {},
   "outputs": [
    {
     "data": {
      "text/plain": [
       "str"
      ]
     },
     "execution_count": 24,
     "metadata": {},
     "output_type": "execute_result"
    }
   ],
   "source": [
    "str_1=\"hey there today is sunny day.\"\n",
    "type(str_1)"
   ]
  },
  {
   "cell_type": "code",
   "execution_count": 26,
   "id": "9ad7fcc9-06a7-4dc3-83fb-7cd934482541",
   "metadata": {},
   "outputs": [
    {
     "name": "stdout",
     "output_type": "stream",
     "text": [
      "hey there today is sunny day.\n"
     ]
    }
   ],
   "source": [
    "print(str_1)"
   ]
  },
  {
   "cell_type": "markdown",
   "id": "222f9865-03c0-4074-b6f7-d50494856dbe",
   "metadata": {},
   "source": [
    "Bool"
   ]
  },
  {
   "cell_type": "code",
   "execution_count": 29,
   "id": "c79b32b2-b550-46c4-af59-958160b0a099",
   "metadata": {},
   "outputs": [
    {
     "name": "stdout",
     "output_type": "stream",
     "text": [
      "True\n"
     ]
    }
   ],
   "source": [
    "var=True\n",
    "print(var)"
   ]
  },
  {
   "cell_type": "code",
   "execution_count": null,
   "id": "fe91bdfa-c4f9-4b1e-8f41-9200059d31cc",
   "metadata": {},
   "outputs": [],
   "source": [
    "xyz=None"
   ]
  },
  {
   "cell_type": "code",
   "execution_count": null,
   "id": "1bacd165-2c4f-42de-868d-9a34e99a0ec2",
   "metadata": {},
   "outputs": [],
   "source": [
    "#is python case sensitive?\n",
    "----->Yes,Python is case sensitive"
   ]
  },
  {
   "cell_type": "markdown",
   "id": "feef21e2-682e-4031-989e-6cb96b558a3d",
   "metadata": {},
   "source": [
    "Non Primitive Data Types:"
   ]
  },
  {
   "cell_type": "code",
   "execution_count": null,
   "id": "1e94d4cf-c37d-4bf2-8ba2-26c6c488b1f4",
   "metadata": {},
   "outputs": [],
   "source": [
    "1.List\n",
    "2.Tuple\n",
    "3.Set\n",
    "4.Dict"
   ]
  },
  {
   "cell_type": "markdown",
   "id": "52009ec6-2c7e-4206-bc5e-7d4a581e4ab0",
   "metadata": {},
   "source": [
    "List:"
   ]
  },
  {
   "cell_type": "code",
   "execution_count": null,
   "id": "2853f02b-23ff-49e3-80fb-506833276111",
   "metadata": {},
   "outputs": [],
   "source": [
    "----> List is always going to get declared inside the square brackets.\n",
    "----> Lists follows indexung of both types forward indexing and backward indexing.\n",
    "----> forward indexing always goes from L to R and start from 0 and backward indexing started from -1 goes from R to L."
   ]
  },
  {
   "cell_type": "code",
   "execution_count": 47,
   "id": "9e9c5de2-e092-49fb-acb8-0dd45b855692",
   "metadata": {},
   "outputs": [
    {
     "name": "stdout",
     "output_type": "stream",
     "text": [
      "[10, 20, 30, 40, 50, 56.6, 'strings', True, None]\n"
     ]
    }
   ],
   "source": [
    "list_1=[10,20,30,40,50,56.6,\"strings\",True,None]\n",
    "print(list_1)"
   ]
  },
  {
   "cell_type": "code",
   "execution_count": 49,
   "id": "addfbe3b-15dc-45fe-b28d-9fe251710a21",
   "metadata": {},
   "outputs": [
    {
     "name": "stdout",
     "output_type": "stream",
     "text": [
      "56.6\n"
     ]
    }
   ],
   "source": [
    "print(list_1[5]) #forward indexing"
   ]
  },
  {
   "cell_type": "code",
   "execution_count": 51,
   "id": "821d1c57-7f8c-4648-98a6-9ecdb013a79a",
   "metadata": {},
   "outputs": [
    {
     "name": "stdout",
     "output_type": "stream",
     "text": [
      "None\n"
     ]
    }
   ],
   "source": [
    "print(list_1[-1]) #backward indexing"
   ]
  },
  {
   "cell_type": "code",
   "execution_count": 53,
   "id": "c4498a25-b75a-4c48-a6fb-41633f9c732b",
   "metadata": {},
   "outputs": [],
   "source": [
    "list_1.append(\"hey\")"
   ]
  },
  {
   "cell_type": "code",
   "execution_count": 55,
   "id": "6fb7c891-b063-4188-9ddf-4f0238191a1c",
   "metadata": {},
   "outputs": [
    {
     "name": "stdout",
     "output_type": "stream",
     "text": [
      "[10, 20, 30, 40, 50, 56.6, 'strings', True, None, 'hey']\n"
     ]
    }
   ],
   "source": [
    "print(list_1)"
   ]
  },
  {
   "cell_type": "code",
   "execution_count": 59,
   "id": "b79f2d23-27ca-4f58-8a5d-5df710f627cf",
   "metadata": {},
   "outputs": [],
   "source": [
    "#lists are mutable in nature.\n",
    "list_1[6]=\"Hello\""
   ]
  },
  {
   "cell_type": "code",
   "execution_count": 61,
   "id": "a2455c92-8632-4d80-941f-6d439efda362",
   "metadata": {},
   "outputs": [
    {
     "data": {
      "text/plain": [
       "[10, 20, 30, 40, 50, 56.6, 'Hello', True, None, 'hey']"
      ]
     },
     "execution_count": 61,
     "metadata": {},
     "output_type": "execute_result"
    }
   ],
   "source": [
    "list_1"
   ]
  },
  {
   "cell_type": "markdown",
   "id": "8e4e68c8-2db9-46ae-b0cf-585307d3b77d",
   "metadata": {},
   "source": [
    "Tuple"
   ]
  },
  {
   "cell_type": "code",
   "execution_count": 64,
   "id": "47671afb-ad6f-4849-833b-4a8e128831a4",
   "metadata": {},
   "outputs": [
    {
     "name": "stdout",
     "output_type": "stream",
     "text": [
      "(10, 20, 23.4, 'string', True, [10, 20, 30])\n"
     ]
    }
   ],
   "source": [
    "tuple_1=(10,20,23.4,\"string\",True,[10,20,30])\n",
    "print(tuple_1)"
   ]
  },
  {
   "cell_type": "code",
   "execution_count": 66,
   "id": "bf4a3621-ebde-40b0-95c6-79f20997f1b9",
   "metadata": {},
   "outputs": [
    {
     "name": "stdout",
     "output_type": "stream",
     "text": [
      "<class 'tuple'>\n"
     ]
    }
   ],
   "source": [
    "print(type(tuple_1))"
   ]
  },
  {
   "cell_type": "code",
   "execution_count": null,
   "id": "bf1aa745-35a3-4ffe-acab-682ab9218e7d",
   "metadata": {},
   "outputs": [],
   "source": [
    "Tuple:\n",
    "1.we can declare any data type inside the tuple.\n",
    "2.Tuple follows indexing.\n",
    "3.lists and tuples they both follows indexing as well as slicing.\n",
    "\n",
    "syntax of slicing:\n",
    "1.it is always going to happen sequentially.\n",
    "tuple_1[start_index:end_index+1:stride/jumps]"
   ]
  },
  {
   "cell_type": "code",
   "execution_count": 68,
   "id": "4c1f206e-0024-403c-8af0-fb5628cb070e",
   "metadata": {},
   "outputs": [
    {
     "data": {
      "text/plain": [
       "(20, 23.4, 'string')"
      ]
     },
     "execution_count": 68,
     "metadata": {},
     "output_type": "execute_result"
    }
   ],
   "source": [
    "tuple_1[1:4]"
   ]
  },
  {
   "cell_type": "code",
   "execution_count": 70,
   "id": "668bfbe4-366a-4954-918e-46a8d188a7b9",
   "metadata": {},
   "outputs": [
    {
     "data": {
      "text/plain": [
       "(10, 23.4, True)"
      ]
     },
     "execution_count": 70,
     "metadata": {},
     "output_type": "execute_result"
    }
   ],
   "source": [
    "tuple_1[::2]"
   ]
  },
  {
   "cell_type": "code",
   "execution_count": 72,
   "id": "d722755c-5703-43ea-83f0-53a01dbfea57",
   "metadata": {},
   "outputs": [
    {
     "name": "stdout",
     "output_type": "stream",
     "text": [
      "([10, 20, 30], True, 'string')\n"
     ]
    }
   ],
   "source": [
    "print(tuple_1[-1:-4:-1])"
   ]
  },
  {
   "cell_type": "markdown",
   "id": "9274a8cb-7094-4acf-a0f6-de56b6f1d41a",
   "metadata": {},
   "source": [
    "Sets:"
   ]
  },
  {
   "cell_type": "code",
   "execution_count": 79,
   "id": "82f1a9fb-ccc7-4889-a988-8e4b4951b3e9",
   "metadata": {},
   "outputs": [
    {
     "name": "stdout",
     "output_type": "stream",
     "text": [
      "{True, 10, 'hey', 23.4}\n"
     ]
    }
   ],
   "source": [
    "set_1={10,23.4,\"hey\",True}\n",
    "print(set_1)"
   ]
  },
  {
   "cell_type": "code",
   "execution_count": 81,
   "id": "216f933e-5242-43e9-8021-3b10c9b70674",
   "metadata": {},
   "outputs": [
    {
     "name": "stdout",
     "output_type": "stream",
     "text": [
      "{40, 10, 20, 30}\n"
     ]
    }
   ],
   "source": [
    "set_2={10,20,30,10,20,30,40}\n",
    "print(set_2)"
   ]
  },
  {
   "cell_type": "code",
   "execution_count": null,
   "id": "78d54ffb-812b-4783-9c07-84ab3942c0d0",
   "metadata": {},
   "outputs": [],
   "source": [
    "Sets:\n",
    "1.Sets are unorderd in nature.\n",
    "2.Sets does not follows indexing.\n",
    "3.Sets elements are unique in nature.\n",
    "4.Set when we want to declare as empty one we need to use built in function set().\n",
    "5.Sets are mutable in nature and it is only accepts primitive data types along with tuple in it."
   ]
  },
  {
   "cell_type": "code",
   "execution_count": 85,
   "id": "26846773-d53f-4cf4-8016-00661755438b",
   "metadata": {},
   "outputs": [],
   "source": [
    "set_2.add(\"Banana\")"
   ]
  },
  {
   "cell_type": "code",
   "execution_count": 87,
   "id": "16d26ec1-1b0e-42d0-b96d-ed8740d6e319",
   "metadata": {},
   "outputs": [
    {
     "data": {
      "text/plain": [
       "{10, 20, 30, 40, 'Banana'}"
      ]
     },
     "execution_count": 87,
     "metadata": {},
     "output_type": "execute_result"
    }
   ],
   "source": [
    "set_2"
   ]
  },
  {
   "cell_type": "code",
   "execution_count": 89,
   "id": "d8e96fc2-80b0-4ca5-b357-1c2c554f4f9c",
   "metadata": {},
   "outputs": [],
   "source": [
    "set_2.add(300)"
   ]
  },
  {
   "cell_type": "code",
   "execution_count": 91,
   "id": "48dba37c-267f-4bc0-b05e-9e43d38ca7d7",
   "metadata": {},
   "outputs": [
    {
     "name": "stdout",
     "output_type": "stream",
     "text": [
      "{40, 10, 300, 'Banana', 20, 30}\n"
     ]
    }
   ],
   "source": [
    "print(set_2)"
   ]
  },
  {
   "cell_type": "code",
   "execution_count": 93,
   "id": "0146c261-5c6e-4b4d-930b-98e2071215a1",
   "metadata": {},
   "outputs": [],
   "source": [
    "list_empty=[]"
   ]
  },
  {
   "cell_type": "code",
   "execution_count": 95,
   "id": "696df84f-8def-4176-a803-e7430552388a",
   "metadata": {},
   "outputs": [],
   "source": [
    "tuple_empty=[]"
   ]
  },
  {
   "cell_type": "code",
   "execution_count": 99,
   "id": "7c423f4e-7797-4fa8-8615-ea0c2d3282e8",
   "metadata": {},
   "outputs": [
    {
     "data": {
      "text/plain": [
       "dict"
      ]
     },
     "execution_count": 99,
     "metadata": {},
     "output_type": "execute_result"
    }
   ],
   "source": [
    "set_empty={}\n",
    "type(set_empty)"
   ]
  },
  {
   "cell_type": "code",
   "execution_count": 101,
   "id": "c3b39487-3a5c-43bf-87ee-c07ba139d73a",
   "metadata": {},
   "outputs": [
    {
     "data": {
      "text/plain": [
       "set"
      ]
     },
     "execution_count": 101,
     "metadata": {},
     "output_type": "execute_result"
    }
   ],
   "source": [
    "empty=set()\n",
    "type(empty)"
   ]
  },
  {
   "cell_type": "markdown",
   "id": "8ce0ae19-a295-42dd-86e1-2986442aee6f",
   "metadata": {},
   "source": [
    "Dictionary:"
   ]
  },
  {
   "cell_type": "code",
   "execution_count": 104,
   "id": "019b8a3e-bbe2-453c-adf4-4db6b9a2c282",
   "metadata": {},
   "outputs": [
    {
     "name": "stdout",
     "output_type": "stream",
     "text": [
      "{'name': 'Megha', 'Study': 'Istudio', 'age': 40}\n"
     ]
    }
   ],
   "source": [
    "dict_1={\"name\":\"Megha\",\"Study\":\"Istudio\",\"age\":40}\n",
    "print(dict_1)"
   ]
  },
  {
   "cell_type": "code",
   "execution_count": 106,
   "id": "afced7d3-d2e5-4244-8af8-1c375a99c90d",
   "metadata": {},
   "outputs": [
    {
     "data": {
      "text/plain": [
       "dict"
      ]
     },
     "execution_count": 106,
     "metadata": {},
     "output_type": "execute_result"
    }
   ],
   "source": [
    "type(dict_1)"
   ]
  },
  {
   "cell_type": "code",
   "execution_count": null,
   "id": "ef3f6460-467f-4d5f-8bbf-c54575842162",
   "metadata": {},
   "outputs": [],
   "source": [
    "dict:\n",
    "1. Dict is the combination of different key value pairs.\n",
    "2.now there are diff properties for the key and the value of the dict.\n",
    "keys:\n",
    "1.keys only accepts primitive data type and tuples in it.\n",
    "2.key are immutable in nature.\n",
    "3.keys are unique.\n",
    "\n",
    "values:\n",
    "1.we can declare any data types for the values.\n",
    "2.values can be duplicated.\n",
    "3.values are mutable in nature.\n",
    "\n",
    "    Dict are mutable in nature."
   ]
  },
  {
   "cell_type": "code",
   "execution_count": 108,
   "id": "1445241f-7516-4a7c-838d-c848f529265b",
   "metadata": {},
   "outputs": [
    {
     "data": {
      "text/plain": [
       "{'name': 'Megha', 'Study': 'Istudio', 'age': 40}"
      ]
     },
     "execution_count": 108,
     "metadata": {},
     "output_type": "execute_result"
    }
   ],
   "source": [
    "dict_1"
   ]
  },
  {
   "cell_type": "code",
   "execution_count": 112,
   "id": "5524d64b-c3f6-4b7f-8a76-171c97122587",
   "metadata": {},
   "outputs": [
    {
     "data": {
      "text/plain": [
       "'Istudio'"
      ]
     },
     "execution_count": 112,
     "metadata": {},
     "output_type": "execute_result"
    }
   ],
   "source": [
    "dict_1[\"Study\"]"
   ]
  },
  {
   "cell_type": "code",
   "execution_count": 116,
   "id": "14f16b7d-71f1-41de-8d49-a21e3ec3eb37",
   "metadata": {},
   "outputs": [],
   "source": [
    "dict_1[\"name\"]=\"chaitanya\""
   ]
  },
  {
   "cell_type": "code",
   "execution_count": 118,
   "id": "fbdf4836-9011-4c85-8e15-749fba4ab74c",
   "metadata": {},
   "outputs": [],
   "source": [
    "dict_1[\"chance\"]=\"dance\""
   ]
  },
  {
   "cell_type": "code",
   "execution_count": 120,
   "id": "4e3909fc-326e-4d34-9388-da4917a17a07",
   "metadata": {},
   "outputs": [
    {
     "data": {
      "text/plain": [
       "{'name': 'chaitanya', 'Study': 'Istudio', 'age': 40, 'chance': 'dance'}"
      ]
     },
     "execution_count": 120,
     "metadata": {},
     "output_type": "execute_result"
    }
   ],
   "source": [
    "dict_1"
   ]
  },
  {
   "cell_type": "code",
   "execution_count": 122,
   "id": "d89559ab-2322-4b94-a562-58bc2461695b",
   "metadata": {},
   "outputs": [],
   "source": [
    "dict_1[\"age\"]=23"
   ]
  },
  {
   "cell_type": "code",
   "execution_count": 124,
   "id": "16f7d6a7-55cd-4ab4-8640-e21fd2376400",
   "metadata": {},
   "outputs": [
    {
     "data": {
      "text/plain": [
       "{'name': 'chaitanya', 'Study': 'Istudio', 'age': 23, 'chance': 'dance'}"
      ]
     },
     "execution_count": 124,
     "metadata": {},
     "output_type": "execute_result"
    }
   ],
   "source": [
    "dict_1"
   ]
  },
  {
   "cell_type": "code",
   "execution_count": null,
   "id": "f12179b1-79dc-497f-abc7-2308221ea40c",
   "metadata": {},
   "outputs": [],
   "source": []
  }
 ],
 "metadata": {
  "kernelspec": {
   "display_name": "Python 3 (ipykernel)",
   "language": "python",
   "name": "python3"
  },
  "language_info": {
   "codemirror_mode": {
    "name": "ipython",
    "version": 3
   },
   "file_extension": ".py",
   "mimetype": "text/x-python",
   "name": "python",
   "nbconvert_exporter": "python",
   "pygments_lexer": "ipython3",
   "version": "3.12.4"
  }
 },
 "nbformat": 4,
 "nbformat_minor": 5
}
