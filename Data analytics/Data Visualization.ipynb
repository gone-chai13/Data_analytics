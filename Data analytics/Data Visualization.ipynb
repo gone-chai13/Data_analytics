{
 "cells": [
  {
   "cell_type": "markdown",
   "id": "9e873bc4-9d70-44e4-8893-871d727bad4f",
   "metadata": {},
   "source": [
    "Different kinds of plots"
   ]
  },
  {
   "cell_type": "markdown",
   "id": "6315ed4c-e32d-4f62-8c10-ccbb1ac21450",
   "metadata": {},
   "source": [
    "Line Plots"
   ]
  },
  {
   "cell_type": "code",
   "execution_count": 11,
   "id": "c0186177-4f97-43f6-a959-6adc1a0490e4",
   "metadata": {},
   "outputs": [
    {
     "ename": "AttributeError",
     "evalue": "module 'pandas' has no attribute 'Dataframe'",
     "output_type": "error",
     "traceback": [
      "\u001b[1;31m---------------------------------------------------------------------------\u001b[0m",
      "\u001b[1;31mAttributeError\u001b[0m                            Traceback (most recent call last)",
      "Cell \u001b[1;32mIn[11], line 8\u001b[0m\n\u001b[0;32m      4\u001b[0m \u001b[38;5;66;03m#create a Dataframe\u001b[39;00m\n\u001b[0;32m      6\u001b[0m data\u001b[38;5;241m=\u001b[39m{\u001b[38;5;124m'\u001b[39m\u001b[38;5;124myear\u001b[39m\u001b[38;5;124m'\u001b[39m:[\u001b[38;5;241m2010\u001b[39m,\u001b[38;5;241m2011\u001b[39m,\u001b[38;5;241m2012\u001b[39m,\u001b[38;5;241m2013\u001b[39m,\u001b[38;5;241m2014\u001b[39m,\u001b[38;5;241m2015\u001b[39m],\n\u001b[0;32m      7\u001b[0m       \u001b[38;5;124m'\u001b[39m\u001b[38;5;124msales\u001b[39m\u001b[38;5;124m'\u001b[39m:[\u001b[38;5;241m100\u001b[39m,\u001b[38;5;241m150\u001b[39m,\u001b[38;5;241m120\u001b[39m,\u001b[38;5;241m180\u001b[39m,\u001b[38;5;241m200\u001b[39m,\u001b[38;5;241m250\u001b[39m]}\n\u001b[1;32m----> 8\u001b[0m df\u001b[38;5;241m=\u001b[39mpd\u001b[38;5;241m.\u001b[39mDataframe(data)\n\u001b[0;32m      9\u001b[0m df\n\u001b[0;32m     11\u001b[0m \u001b[38;5;66;03m#create a line plot\u001b[39;00m\n",
      "\u001b[1;31mAttributeError\u001b[0m: module 'pandas' has no attribute 'Dataframe'"
     ]
    }
   ],
   "source": [
    "import pandas as pd\n",
    "import matplotlib.pyplot as plt\n",
    "\n",
    "#create a Dataframe\n",
    "\n",
    "data={'year':[2010,2011,2012,2013,2014,2015],\n",
    "      'sales':[100,150,120,180,200,250]}\n",
    "df=pd.Dataframe(data)\n",
    "df\n",
    "\n",
    "#create a line plot\n",
    "\n",
    "plt.plot(df['year'],df['sales'])\n",
    "plt.xlabel('year')\n",
    "plt.ylabel('Sales')\n",
    "plt.title('Sales over the years')\n",
    "\n",
    "#Display the plot\n",
    "\n",
    "plt.show"
   ]
  },
  {
   "cell_type": "code",
   "execution_count": null,
   "id": "78f2e953-6176-4c15-861c-56b4f6df23a2",
   "metadata": {},
   "outputs": [],
   "source": []
  }
 ],
 "metadata": {
  "kernelspec": {
   "display_name": "Python 3 (ipykernel)",
   "language": "python",
   "name": "python3"
  },
  "language_info": {
   "codemirror_mode": {
    "name": "ipython",
    "version": 3
   },
   "file_extension": ".py",
   "mimetype": "text/x-python",
   "name": "python",
   "nbconvert_exporter": "python",
   "pygments_lexer": "ipython3",
   "version": "3.12.4"
  }
 },
 "nbformat": 4,
 "nbformat_minor": 5
}
